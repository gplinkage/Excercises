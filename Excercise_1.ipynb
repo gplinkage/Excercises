{
  "nbformat": 4,
  "nbformat_minor": 0,
  "metadata": {
    "colab": {
      "provenance": [],
      "authorship_tag": "ABX9TyMFcXMA1XZUdp7eftJEWMKQ"
    },
    "kernelspec": {
      "name": "python3",
      "display_name": "Python 3"
    },
    "language_info": {
      "name": "python"
    }
  },
  "cells": [
    {
      "cell_type": "code",
      "execution_count": null,
      "metadata": {
        "colab": {
          "base_uri": "https://localhost:8080/"
        },
        "id": "s1HSwem-hEUL",
        "outputId": "2791a94e-61e3-401a-939c-b4bd94bc4c66"
      },
      "outputs": [
        {
          "output_type": "stream",
          "name": "stdout",
          "text": [
            "Please enter first number between 1 & 100:> 10\n",
            "Please enter second number between 1 & 100:> 3\n",
            "3 4 5 6 7 8 9 10 "
          ]
        }
      ],
      "source": [
        "num1= int(input(\"Please enter first number between 1 & 100:> \"))\n",
        "num2 = int(input(\"Please enter second number between 1 & 100:> \"))\n",
        "\n",
        "while num1>100 or num1<0 or num2<0 or num2>100:\n",
        "  print(\"Please enter numbers between 1 and 100\")\n",
        "  num1= int(input(\"Please enter first number between 1 & 100:>\"))\n",
        "  num2 = int(input(\"Please enter second number bentween 1 & 100:>\"))\n",
        "if num1<num2:\n",
        "  for i in range(num1, num2+1):\n",
        "    print(i, end=\" \")\n",
        "else:\n",
        "  for i in range(num2, num1+1):\n",
        "    print(i, end = \" \")"
      ]
    },
    {
      "cell_type": "code",
      "source": [
        "# Ask user to input a string and print it out in reverse order, use for loop\n",
        "\n",
        "str1 = input(\"Please enter an string:> \")\n",
        "\n",
        "# str2 = str1[::-1]\n",
        "# print(str2)\n",
        "\n",
        "reverse_string= \"\"\n",
        "\n",
        "for i in str1:\n",
        "  reverse_string = i + reverse_string\n",
        "\n",
        "print(reverse_string)"
      ],
      "metadata": {
        "colab": {
          "base_uri": "https://localhost:8080/"
        },
        "id": "kwlDK8RKi7F2",
        "outputId": "68500fc8-17f8-4b35-8815-a4cb63df9151"
      },
      "execution_count": null,
      "outputs": [
        {
          "output_type": "stream",
          "name": "stdout",
          "text": [
            "Please enter an string:> goodby\n",
            "ybdoog\n"
          ]
        }
      ]
    },
    {
      "cell_type": "code",
      "source": [
        "num1= int(input(\"Please enter first number between 1 & 12:> \"))\n",
        "\n",
        "while int(num1)>12 or int(num1)<0 :\n",
        "  print(\"Please enter numbers between 1 and 12\")\n",
        "  num1= int(input(\"Please enter first number between 1 & 12:>\"))\n",
        "\n",
        "print(\"==========================\")\n",
        "\n",
        "for i in range(1,13):\n",
        "    print(f'{num1} x {i} = {num1*i}')\n"
      ],
      "metadata": {
        "colab": {
          "base_uri": "https://localhost:8080/"
        },
        "id": "3H4_MNnJo0Ff",
        "outputId": "3645e5f8-789a-40a4-98a5-a15d08d69f42"
      },
      "execution_count": null,
      "outputs": [
        {
          "output_type": "stream",
          "name": "stdout",
          "text": [
            "Please enter first number between 1 & 12:> 4\n",
            "==========================\n",
            "4 x 1 = 4\n",
            "4 x 2 = 8\n",
            "4 x 3 = 12\n",
            "4 x 4 = 16\n",
            "4 x 5 = 20\n",
            "4 x 6 = 24\n",
            "4 x 7 = 28\n",
            "4 x 8 = 32\n",
            "4 x 9 = 36\n",
            "4 x 10 = 40\n",
            "4 x 11 = 44\n",
            "4 x 12 = 48\n"
          ]
        }
      ]
    },
    {
      "cell_type": "code",
      "source": [
        "for i in range(1,13):\n",
        "  print(\"===============================\")\n",
        "  print(f'This is the {i} times table')\n",
        "  print()\n",
        "  for j in range(1,13):\n",
        "    print(f'{i} x {j} = {i*j}')"
      ],
      "metadata": {
        "colab": {
          "base_uri": "https://localhost:8080/"
        },
        "id": "ErG3_WtprhCu",
        "outputId": "8926f851-28a0-4578-af8d-10491743caa1"
      },
      "execution_count": null,
      "outputs": [
        {
          "output_type": "stream",
          "name": "stdout",
          "text": [
            "===============================\n",
            "This is the 1 times table\n",
            "\n",
            "1 x 1 = 1\n",
            "1 x 2 = 2\n",
            "1 x 3 = 3\n",
            "1 x 4 = 4\n",
            "1 x 5 = 5\n",
            "1 x 6 = 6\n",
            "1 x 7 = 7\n",
            "1 x 8 = 8\n",
            "1 x 9 = 9\n",
            "1 x 10 = 10\n",
            "1 x 11 = 11\n",
            "1 x 12 = 12\n",
            "===============================\n",
            "This is the 2 times table\n",
            "\n",
            "2 x 1 = 2\n",
            "2 x 2 = 4\n",
            "2 x 3 = 6\n",
            "2 x 4 = 8\n",
            "2 x 5 = 10\n",
            "2 x 6 = 12\n",
            "2 x 7 = 14\n",
            "2 x 8 = 16\n",
            "2 x 9 = 18\n",
            "2 x 10 = 20\n",
            "2 x 11 = 22\n",
            "2 x 12 = 24\n",
            "===============================\n",
            "This is the 3 times table\n",
            "\n",
            "3 x 1 = 3\n",
            "3 x 2 = 6\n",
            "3 x 3 = 9\n",
            "3 x 4 = 12\n",
            "3 x 5 = 15\n",
            "3 x 6 = 18\n",
            "3 x 7 = 21\n",
            "3 x 8 = 24\n",
            "3 x 9 = 27\n",
            "3 x 10 = 30\n",
            "3 x 11 = 33\n",
            "3 x 12 = 36\n",
            "===============================\n",
            "This is the 4 times table\n",
            "\n",
            "4 x 1 = 4\n",
            "4 x 2 = 8\n",
            "4 x 3 = 12\n",
            "4 x 4 = 16\n",
            "4 x 5 = 20\n",
            "4 x 6 = 24\n",
            "4 x 7 = 28\n",
            "4 x 8 = 32\n",
            "4 x 9 = 36\n",
            "4 x 10 = 40\n",
            "4 x 11 = 44\n",
            "4 x 12 = 48\n",
            "===============================\n",
            "This is the 5 times table\n",
            "\n",
            "5 x 1 = 5\n",
            "5 x 2 = 10\n",
            "5 x 3 = 15\n",
            "5 x 4 = 20\n",
            "5 x 5 = 25\n",
            "5 x 6 = 30\n",
            "5 x 7 = 35\n",
            "5 x 8 = 40\n",
            "5 x 9 = 45\n",
            "5 x 10 = 50\n",
            "5 x 11 = 55\n",
            "5 x 12 = 60\n",
            "===============================\n",
            "This is the 6 times table\n",
            "\n",
            "6 x 1 = 6\n",
            "6 x 2 = 12\n",
            "6 x 3 = 18\n",
            "6 x 4 = 24\n",
            "6 x 5 = 30\n",
            "6 x 6 = 36\n",
            "6 x 7 = 42\n",
            "6 x 8 = 48\n",
            "6 x 9 = 54\n",
            "6 x 10 = 60\n",
            "6 x 11 = 66\n",
            "6 x 12 = 72\n",
            "===============================\n",
            "This is the 7 times table\n",
            "\n",
            "7 x 1 = 7\n",
            "7 x 2 = 14\n",
            "7 x 3 = 21\n",
            "7 x 4 = 28\n",
            "7 x 5 = 35\n",
            "7 x 6 = 42\n",
            "7 x 7 = 49\n",
            "7 x 8 = 56\n",
            "7 x 9 = 63\n",
            "7 x 10 = 70\n",
            "7 x 11 = 77\n",
            "7 x 12 = 84\n",
            "===============================\n",
            "This is the 8 times table\n",
            "\n",
            "8 x 1 = 8\n",
            "8 x 2 = 16\n",
            "8 x 3 = 24\n",
            "8 x 4 = 32\n",
            "8 x 5 = 40\n",
            "8 x 6 = 48\n",
            "8 x 7 = 56\n",
            "8 x 8 = 64\n",
            "8 x 9 = 72\n",
            "8 x 10 = 80\n",
            "8 x 11 = 88\n",
            "8 x 12 = 96\n",
            "===============================\n",
            "This is the 9 times table\n",
            "\n",
            "9 x 1 = 9\n",
            "9 x 2 = 18\n",
            "9 x 3 = 27\n",
            "9 x 4 = 36\n",
            "9 x 5 = 45\n",
            "9 x 6 = 54\n",
            "9 x 7 = 63\n",
            "9 x 8 = 72\n",
            "9 x 9 = 81\n",
            "9 x 10 = 90\n",
            "9 x 11 = 99\n",
            "9 x 12 = 108\n",
            "===============================\n",
            "This is the 10 times table\n",
            "\n",
            "10 x 1 = 10\n",
            "10 x 2 = 20\n",
            "10 x 3 = 30\n",
            "10 x 4 = 40\n",
            "10 x 5 = 50\n",
            "10 x 6 = 60\n",
            "10 x 7 = 70\n",
            "10 x 8 = 80\n",
            "10 x 9 = 90\n",
            "10 x 10 = 100\n",
            "10 x 11 = 110\n",
            "10 x 12 = 120\n",
            "===============================\n",
            "This is the 11 times table\n",
            "\n",
            "11 x 1 = 11\n",
            "11 x 2 = 22\n",
            "11 x 3 = 33\n",
            "11 x 4 = 44\n",
            "11 x 5 = 55\n",
            "11 x 6 = 66\n",
            "11 x 7 = 77\n",
            "11 x 8 = 88\n",
            "11 x 9 = 99\n",
            "11 x 10 = 110\n",
            "11 x 11 = 121\n",
            "11 x 12 = 132\n",
            "===============================\n",
            "This is the 12 times table\n",
            "\n",
            "12 x 1 = 12\n",
            "12 x 2 = 24\n",
            "12 x 3 = 36\n",
            "12 x 4 = 48\n",
            "12 x 5 = 60\n",
            "12 x 6 = 72\n",
            "12 x 7 = 84\n",
            "12 x 8 = 96\n",
            "12 x 9 = 108\n",
            "12 x 10 = 120\n",
            "12 x 11 = 132\n",
            "12 x 12 = 144\n"
          ]
        }
      ]
    },
    {
      "cell_type": "code",
      "source": [
        "num1= int(input(\"Please enter a number: \"))\n",
        "seq_num=[]\n",
        "\n",
        "while len(seq_num) < 5:\n",
        "   num1= int(input(\"Please enter a number: \"))\n",
        "   seq_num.append(num1)\n",
        "\n",
        "total=0\n",
        "for i in seq_num:\n",
        "  total+=i\n",
        "\n",
        "mean= total/len(seq_num)\n",
        "print(f'The mean of the sequence is {mean}')\n"
      ],
      "metadata": {
        "colab": {
          "base_uri": "https://localhost:8080/"
        },
        "id": "o-Bpnw9dt2Xs",
        "outputId": "353b889c-5390-41df-e647-ecf312b75949"
      },
      "execution_count": null,
      "outputs": [
        {
          "output_type": "stream",
          "name": "stdout",
          "text": [
            "Please enter a number: 2\n",
            "Please enter a number: 4\n",
            "Please enter a number: 6\n",
            "Please enter a number: 7\n",
            "Please enter a number: 7\n",
            "Please enter a number: 9\n",
            "The mean of the sequence is 6.6\n"
          ]
        }
      ]
    },
    {
      "cell_type": "code",
      "source": [
        "n=15\n",
        "fact= 1\n",
        "for i in range(1, n+1):\n",
        "  fact= fact*i\n",
        "  print(fact)\n",
        "print(fact)"
      ],
      "metadata": {
        "colab": {
          "base_uri": "https://localhost:8080/"
        },
        "id": "WnsB62vzwgRv",
        "outputId": "d062e767-97ad-4ba7-b03b-25a5cf5bbef2"
      },
      "execution_count": null,
      "outputs": [
        {
          "output_type": "stream",
          "name": "stdout",
          "text": [
            "1\n",
            "2\n",
            "6\n",
            "24\n",
            "120\n",
            "720\n",
            "5040\n",
            "40320\n",
            "362880\n",
            "3628800\n",
            "39916800\n",
            "479001600\n",
            "6227020800\n",
            "87178291200\n",
            "1307674368000\n",
            "1307674368000\n"
          ]
        }
      ]
    },
    {
      "cell_type": "code",
      "source": [
        "n=10\n",
        "fact=1\n",
        "for i in range(1, n+1):\n",
        "  fact= fact*i\n",
        "print(fact)"
      ],
      "metadata": {
        "colab": {
          "base_uri": "https://localhost:8080/"
        },
        "id": "GtRp6sR2l96d",
        "outputId": "fefe361f-b11c-4a85-8700-08af8e821244"
      },
      "execution_count": null,
      "outputs": [
        {
          "output_type": "stream",
          "name": "stdout",
          "text": [
            "3628800\n"
          ]
        }
      ]
    },
    {
      "cell_type": "code",
      "source": [
        "n=20\n",
        "a=0\n",
        "b=1\n",
        "fib_num=[]\n",
        "\n",
        "for i in range(n):\n",
        "  fib_num.append(a)\n",
        "  a,b = b, a+b\n",
        "print(fib_num)"
      ],
      "metadata": {
        "colab": {
          "base_uri": "https://localhost:8080/"
        },
        "id": "5talVch-mnqK",
        "outputId": "3d9bdb14-0e48-49da-f63f-f9b61bff7384"
      },
      "execution_count": null,
      "outputs": [
        {
          "output_type": "stream",
          "name": "stdout",
          "text": [
            "[0, 1, 1, 2, 3, 5, 8, 13, 21, 34, 55, 89, 144, 233, 377, 610, 987, 1597, 2584, 4181]\n"
          ]
        }
      ]
    },
    {
      "cell_type": "code",
      "source": [
        "odd=[]\n",
        "even=[]\n",
        "\n",
        "for i in range(1, 101):\n",
        "  if i%2==0:\n",
        "    even.append(i)\n",
        "  else:\n",
        "    odd.append(i)"
      ],
      "metadata": {
        "id": "0HZI62OBnc3X"
      },
      "execution_count": null,
      "outputs": []
    },
    {
      "cell_type": "code",
      "source": [
        "print(odd)\n",
        "print(even)"
      ],
      "metadata": {
        "colab": {
          "base_uri": "https://localhost:8080/"
        },
        "id": "dGC7Q_B7rLYm",
        "outputId": "ad03e4fe-1e37-4888-f7f2-fbaf8b7f5123"
      },
      "execution_count": null,
      "outputs": [
        {
          "output_type": "stream",
          "name": "stdout",
          "text": [
            "[1, 3, 5, 7, 9, 11, 13, 15, 17, 19, 21, 23, 25, 27, 29, 31, 33, 35, 37, 39, 41, 43, 45, 47, 49, 51, 53, 55, 57, 59, 61, 63, 65, 67, 69, 71, 73, 75, 77, 79, 81, 83, 85, 87, 89, 91, 93, 95, 97, 99]\n",
            "[2, 4, 6, 8, 10, 12, 14, 16, 18, 20, 22, 24, 26, 28, 30, 32, 34, 36, 38, 40, 42, 44, 46, 48, 50, 52, 54, 56, 58, 60, 62, 64, 66, 68, 70, 72, 74, 76, 78, 80, 82, 84, 86, 88, 90, 92, 94, 96, 98, 100]\n"
          ]
        }
      ]
    },
    {
      "cell_type": "code",
      "source": [
        "pip install helper_functions\n"
      ],
      "metadata": {
        "colab": {
          "base_uri": "https://localhost:8080/"
        },
        "id": "nOyOa5DHHwiw",
        "outputId": "7ddac6af-216b-4c12-cf9c-542de50024ec"
      },
      "execution_count": null,
      "outputs": [
        {
          "output_type": "stream",
          "name": "stdout",
          "text": [
            "Collecting helper_functions\n",
            "  Downloading helper_functions-2.0.11.tar.gz (6.8 kB)\n",
            "  Preparing metadata (setup.py) ... \u001b[?25l\u001b[?25hdone\n",
            "Requirement already satisfied: numpy in /usr/local/lib/python3.11/dist-packages (from helper_functions) (1.26.4)\n",
            "Requirement already satisfied: scipy in /usr/local/lib/python3.11/dist-packages (from helper_functions) (1.13.1)\n",
            "Collecting sklearn (from helper_functions)\n",
            "  Downloading sklearn-0.0.post12.tar.gz (2.6 kB)\n",
            "  \u001b[1;31merror\u001b[0m: \u001b[1msubprocess-exited-with-error\u001b[0m\n",
            "  \n",
            "  \u001b[31m×\u001b[0m \u001b[32mpython setup.py egg_info\u001b[0m did not run successfully.\n",
            "  \u001b[31m│\u001b[0m exit code: \u001b[1;36m1\u001b[0m\n",
            "  \u001b[31m╰─>\u001b[0m See above for output.\n",
            "  \n",
            "  \u001b[1;35mnote\u001b[0m: This error originates from a subprocess, and is likely not a problem with pip.\n",
            "  Preparing metadata (setup.py) ... \u001b[?25l\u001b[?25herror\n",
            "\u001b[1;31merror\u001b[0m: \u001b[1mmetadata-generation-failed\u001b[0m\n",
            "\n",
            "\u001b[31m×\u001b[0m Encountered error while generating package metadata.\n",
            "\u001b[31m╰─>\u001b[0m See above for output.\n",
            "\n",
            "\u001b[1;35mnote\u001b[0m: This is an issue with the package mentioned above, not pip.\n",
            "\u001b[1;36mhint\u001b[0m: See above for details.\n"
          ]
        }
      ]
    },
    {
      "cell_type": "code",
      "source": [
        "def hello():\n",
        "  print('Hello World')"
      ],
      "metadata": {
        "id": "Gr3MkrU7hX3U"
      },
      "execution_count": null,
      "outputs": []
    },
    {
      "cell_type": "code",
      "source": [
        "hello()"
      ],
      "metadata": {
        "colab": {
          "base_uri": "https://localhost:8080/"
        },
        "id": "91ICXpbblQoC",
        "outputId": "2496ab5c-8acb-499e-91cb-6297db4066a2"
      },
      "execution_count": null,
      "outputs": [
        {
          "output_type": "stream",
          "name": "stdout",
          "text": [
            "Hello World\n"
          ]
        }
      ]
    },
    {
      "cell_type": "code",
      "source": [
        "for i in range(5):\n",
        "  hello()"
      ],
      "metadata": {
        "colab": {
          "base_uri": "https://localhost:8080/"
        },
        "id": "ItXukBazlss_",
        "outputId": "f9a3d1b8-2f57-415b-8f52-cd95874829c0"
      },
      "execution_count": null,
      "outputs": [
        {
          "output_type": "stream",
          "name": "stdout",
          "text": [
            "Hello World\n",
            "Hello World\n",
            "Hello World\n",
            "Hello World\n",
            "Hello World\n"
          ]
        }
      ]
    },
    {
      "cell_type": "code",
      "source": [
        "def hi(name):\n",
        "  print(f'Hello, {name}!')"
      ],
      "metadata": {
        "id": "o6QZDw-Bl21J"
      },
      "execution_count": null,
      "outputs": []
    },
    {
      "cell_type": "code",
      "source": [
        "hi('Sam')"
      ],
      "metadata": {
        "colab": {
          "base_uri": "https://localhost:8080/"
        },
        "id": "NqeShMwtmBgB",
        "outputId": "45eded87-c23e-4af9-eda4-bbff6d041086"
      },
      "execution_count": null,
      "outputs": [
        {
          "output_type": "stream",
          "name": "stdout",
          "text": [
            "Hello, Sam!\n"
          ]
        }
      ]
    },
    {
      "cell_type": "code",
      "source": [
        "def hi_2(name='Sam'):\n",
        "  print(f'Hello, {name}!')"
      ],
      "metadata": {
        "id": "OUCl4GJ1mtuq"
      },
      "execution_count": null,
      "outputs": []
    },
    {
      "cell_type": "code",
      "source": [
        "hi_2()"
      ],
      "metadata": {
        "colab": {
          "base_uri": "https://localhost:8080/"
        },
        "id": "O1jXH03Fm4lQ",
        "outputId": "7373ad64-dc9d-4957-f9a8-170fcb58cf0f"
      },
      "execution_count": null,
      "outputs": [
        {
          "output_type": "stream",
          "name": "stdout",
          "text": [
            "Hello, Sam!\n"
          ]
        }
      ]
    },
    {
      "cell_type": "code",
      "source": [
        "hi_2('Harry')"
      ],
      "metadata": {
        "colab": {
          "base_uri": "https://localhost:8080/"
        },
        "id": "bCDybGiFm68h",
        "outputId": "6fbc7410-ddae-441a-d64c-80d6b8af0fc8"
      },
      "execution_count": null,
      "outputs": [
        {
          "output_type": "stream",
          "name": "stdout",
          "text": [
            "Hello, Harry!\n"
          ]
        }
      ]
    },
    {
      "cell_type": "code",
      "source": [
        "def fib(n):\n",
        "  a=0\n",
        "  b=1\n",
        "\n",
        "  for i in range (n):\n",
        "    a, b = b, a+b\n",
        "  return a\n"
      ],
      "metadata": {
        "id": "QEaANZbIoCdH"
      },
      "execution_count": null,
      "outputs": []
    },
    {
      "cell_type": "code",
      "source": [
        "fib(20)"
      ],
      "metadata": {
        "colab": {
          "base_uri": "https://localhost:8080/"
        },
        "id": "qCaosLb9ojwe",
        "outputId": "de46293e-5717-4214-972b-f44fe342f0b2"
      },
      "execution_count": null,
      "outputs": [
        {
          "output_type": "execute_result",
          "data": {
            "text/plain": [
              "6765"
            ]
          },
          "metadata": {},
          "execution_count": 16
        }
      ]
    },
    {
      "cell_type": "code",
      "source": [
        "for i in range(20):\n",
        "  print(fib(i), end=\" \")"
      ],
      "metadata": {
        "colab": {
          "base_uri": "https://localhost:8080/"
        },
        "id": "O9uOL0nmosTu",
        "outputId": "1562ab30-cf29-48ec-d13c-8155f472c590"
      },
      "execution_count": null,
      "outputs": [
        {
          "output_type": "stream",
          "name": "stdout",
          "text": [
            "0 1 1 2 3 5 8 13 21 34 55 89 144 233 377 610 987 1597 2584 4181 "
          ]
        }
      ]
    },
    {
      "cell_type": "code",
      "source": [
        "def calc_mean(*remainder):\n",
        "  '''This calculates the mean of numbers'''\n",
        "  mean= (sum(remainder))/(len(remainder))\n",
        "  return mean"
      ],
      "metadata": {
        "id": "fY5IAjWhpKKW"
      },
      "execution_count": null,
      "outputs": []
    },
    {
      "cell_type": "code",
      "source": [
        "calc_mean(3,4,6,7,8,44,67,80)"
      ],
      "metadata": {
        "colab": {
          "base_uri": "https://localhost:8080/"
        },
        "id": "d3IQKhUmpkkJ",
        "outputId": "7a112345-0daa-44af-d3bf-8305cbcc80d4"
      },
      "execution_count": null,
      "outputs": [
        {
          "output_type": "execute_result",
          "data": {
            "text/plain": [
              "27.375"
            ]
          },
          "metadata": {},
          "execution_count": 31
        }
      ]
    },
    {
      "cell_type": "code",
      "source": [
        "def fib_2(n):\n",
        "  if n==0:\n",
        "    return 0\n",
        "  elif n==1:\n",
        "    return 1\n",
        "  else:\n",
        "    return fib_2(n-1)+ fib_2(n-2)"
      ],
      "metadata": {
        "id": "BqRKn7qTr1oI"
      },
      "execution_count": null,
      "outputs": []
    },
    {
      "cell_type": "code",
      "source": [
        "fib_2(30)"
      ],
      "metadata": {
        "colab": {
          "base_uri": "https://localhost:8080/"
        },
        "id": "76McX0nEsews",
        "outputId": "3b3cd7a2-0afa-45ae-b5a6-a99682205cd6"
      },
      "execution_count": null,
      "outputs": [
        {
          "output_type": "execute_result",
          "data": {
            "text/plain": [
              "832040"
            ]
          },
          "metadata": {},
          "execution_count": 41
        }
      ]
    },
    {
      "cell_type": "code",
      "source": [
        "import timeit"
      ],
      "metadata": {
        "id": "a2hn6TwotCcS"
      },
      "execution_count": null,
      "outputs": []
    },
    {
      "cell_type": "code",
      "source": [
        "class Patient (object):\n",
        "  \"\"\"Medical centre patient\"\"\"\n",
        "  status = 'patient'\n",
        "  def __init__(self, name, age, sex):\n",
        "    self.name= name\n",
        "    self.age= age\n",
        "    self.sex = sex\n",
        "    self.condition= []\n",
        "\n",
        "  def get_details(self):\n",
        "    print(f'Patient record: {self.name},{self.age} years.'\\\n",
        "          f'Current information: {self.condition}')\n",
        "\n",
        "  def add_info(self, info):\n",
        "    self.condition.append(info)\n"
      ],
      "metadata": {
        "id": "gPYb49Jpup9C"
      },
      "execution_count": null,
      "outputs": []
    },
    {
      "cell_type": "code",
      "source": [
        "steve = Patient('Steven', 34, 'Male')"
      ],
      "metadata": {
        "id": "VbW429ouBVUk"
      },
      "execution_count": null,
      "outputs": []
    },
    {
      "cell_type": "code",
      "source": [
        "print(steve.name, steve.age, steve.sex)"
      ],
      "metadata": {
        "colab": {
          "base_uri": "https://localhost:8080/"
        },
        "id": "YqhvR5MTBetJ",
        "outputId": "1884bf19-06c6-4661-ad2b-229eb1a01422"
      },
      "execution_count": null,
      "outputs": [
        {
          "output_type": "stream",
          "name": "stdout",
          "text": [
            "Steven 34 Male\n"
          ]
        }
      ]
    },
    {
      "cell_type": "code",
      "source": [
        "steve.status"
      ],
      "metadata": {
        "colab": {
          "base_uri": "https://localhost:8080/",
          "height": 36
        },
        "id": "P0C3e7GVTvOw",
        "outputId": "3af659c4-f979-449a-9304-6f2699fb79b0"
      },
      "execution_count": null,
      "outputs": [
        {
          "output_type": "execute_result",
          "data": {
            "text/plain": [
              "'patient'"
            ],
            "application/vnd.google.colaboratory.intrinsic+json": {
              "type": "string"
            }
          },
          "metadata": {},
          "execution_count": 17
        }
      ]
    },
    {
      "cell_type": "code",
      "source": [
        "steve.get_details()"
      ],
      "metadata": {
        "colab": {
          "base_uri": "https://localhost:8080/"
        },
        "id": "QmYjxq0DUkjq",
        "outputId": "6b23eeb2-481c-410c-d6de-e1603ea97cba"
      },
      "execution_count": null,
      "outputs": [
        {
          "output_type": "stream",
          "name": "stdout",
          "text": [
            "Patient record: Steven,34 years.Current information: []\n"
          ]
        }
      ]
    },
    {
      "cell_type": "code",
      "source": [
        "Mike = Patient(\"Mike\", 45, \"Male\")"
      ],
      "metadata": {
        "id": "3lnDYK4KT074"
      },
      "execution_count": null,
      "outputs": []
    },
    {
      "cell_type": "code",
      "source": [
        "Mike.get_details()"
      ],
      "metadata": {
        "colab": {
          "base_uri": "https://localhost:8080/"
        },
        "id": "_Kv0XGEERdWL",
        "outputId": "32e78262-72bd-481e-927a-ed91bb616bed"
      },
      "execution_count": null,
      "outputs": [
        {
          "output_type": "stream",
          "name": "stdout",
          "text": [
            "Patient record: Mike,45 years.Current information: []\n"
          ]
        }
      ]
    },
    {
      "cell_type": "code",
      "source": [
        "Mike.add_info(1)"
      ],
      "metadata": {
        "id": "sjPvnnuJU5KO"
      },
      "execution_count": null,
      "outputs": []
    },
    {
      "cell_type": "code",
      "source": [
        "Mike.get_details()"
      ],
      "metadata": {
        "colab": {
          "base_uri": "https://localhost:8080/"
        },
        "id": "KgBk9ritVGjK",
        "outputId": "3d278b40-8dcf-47c6-ffca-5cb4d8538319"
      },
      "execution_count": null,
      "outputs": [
        {
          "output_type": "stream",
          "name": "stdout",
          "text": [
            "Patient record: Mike,45 years.Current information: [1]\n"
          ]
        }
      ]
    }
  ]
}