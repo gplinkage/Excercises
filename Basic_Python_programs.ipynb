{
 "cells": [
  {
   "cell_type": "markdown",
   "metadata": {},
   "source": [
    "1. Write a Python program to print \"Hello Python\"."
   ]
  },
  {
   "cell_type": "code",
   "execution_count": null,
   "metadata": {},
   "outputs": [],
   "source": [
    "print('Hello Python')"
   ]
  },
  {
   "cell_type": "markdown",
   "metadata": {},
   "source": [
    "2. Write a Python program to do arithmetical operations addition and division."
   ]
  },
  {
   "cell_type": "code",
   "execution_count": 2,
   "metadata": {},
   "outputs": [
    {
     "name": "stdout",
     "output_type": "stream",
     "text": [
      "sum:50.0+30.0= 80.0\n"
     ]
    }
   ],
   "source": [
    "# Addition\n",
    "num1 = float(input('Enter the first number for addition: '))\n",
    "num2 = float (input ('Enter the second number for addition: '))\n",
    "\n",
    "result = num1 + num2\n",
    "print(f'sum:{num1}+{num2}= {result}')"
   ]
  },
  {
   "cell_type": "code",
   "execution_count": 3,
   "metadata": {},
   "outputs": [
    {
     "name": "stdout",
     "output_type": "stream",
     "text": [
      "sum: 50.0/10.0= 5.0\n"
     ]
    }
   ],
   "source": [
    "# Division\n",
    "num1 = float(input('Enter the first number for division: '))\n",
    "num2 = float (input ('Enter the second number for division: '))\n",
    "\n",
    "result = num1/num2\n",
    "\n",
    "print(f'sum: {num1}/{num2}= {result}')"
   ]
  },
  {
   "cell_type": "markdown",
   "metadata": {},
   "source": []
  }
 ],
 "metadata": {
  "kernelspec": {
   "display_name": "Python 3",
   "language": "python",
   "name": "python3"
  },
  "language_info": {
   "codemirror_mode": {
    "name": "ipython",
    "version": 3
   },
   "file_extension": ".py",
   "mimetype": "text/x-python",
   "name": "python",
   "nbconvert_exporter": "python",
   "pygments_lexer": "ipython3",
   "version": "3.11.4"
  }
 },
 "nbformat": 4,
 "nbformat_minor": 2
}
