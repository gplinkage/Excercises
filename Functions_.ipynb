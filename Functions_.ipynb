{
  "nbformat": 4,
  "nbformat_minor": 0,
  "metadata": {
    "colab": {
      "provenance": [],
      "authorship_tag": "ABX9TyOdNTWE+QkaRoEjRO+RQTf8",
      "include_colab_link": true
    },
    "kernelspec": {
      "name": "python3",
      "display_name": "Python 3"
    },
    "language_info": {
      "name": "python"
    }
  },
  "cells": [
    {
      "cell_type": "markdown",
      "metadata": {
        "id": "view-in-github",
        "colab_type": "text"
      },
      "source": [
        "<a href=\"https://colab.research.google.com/github/gplinkage/Excercises/blob/main/Functions_.ipynb\" target=\"_parent\"><img src=\"https://colab.research.google.com/assets/colab-badge.svg\" alt=\"Open In Colab\"/></a>"
      ]
    },
    {
      "cell_type": "code",
      "execution_count": null,
      "metadata": {
        "id": "aZ6nEj3Xg6tQ"
      },
      "outputs": [],
      "source": [
        "\"\"\"\n",
        "Write a Python Function that accepts a hyphen-separated sequence of words as input and prints the words in a hyphen-separated sequence after sorting them alphabetically.\n",
        "Sample Items : green-red-yellow-black-white\n",
        "Expected Result : black-green-red-white-yellow\n",
        "\"\"\""
      ]
    },
    {
      "cell_type": "code",
      "source": [
        "import numpy as np\n",
        "import pandas as pd\n",
        "import matplotlib.pyplot as plt\n",
        "import seaborn as sns"
      ],
      "metadata": {
        "id": "YlVaAUelieWG"
      },
      "execution_count": 2,
      "outputs": []
    },
    {
      "cell_type": "code",
      "source": [
        "def sort_the_string(words_str):\n",
        "  words_list = words_str.split('-')\n",
        "  sorted_list = sorted(words_list)\n",
        "  sorted_str = '-'.join(sorted_list)\n",
        "  return sorted_str"
      ],
      "metadata": {
        "id": "irZr4B3EikrQ"
      },
      "execution_count": 3,
      "outputs": []
    },
    {
      "cell_type": "code",
      "source": [
        "sort_the_string('green-red-yellow-black-white')"
      ],
      "metadata": {
        "colab": {
          "base_uri": "https://localhost:8080/",
          "height": 35
        },
        "id": "pOqeKinFjRbT",
        "outputId": "8af315d2-3c77-454e-b98a-1e06e429b515"
      },
      "execution_count": 4,
      "outputs": [
        {
          "output_type": "execute_result",
          "data": {
            "text/plain": [
              "'black-green-red-white-yellow'"
            ],
            "application/vnd.google.colaboratory.intrinsic+json": {
              "type": "string"
            }
          },
          "metadata": {},
          "execution_count": 4
        }
      ]
    },
    {
      "cell_type": "markdown",
      "source": [
        "# Write a function that accepts a string and count consonant and vowels in that string"
      ],
      "metadata": {
        "id": "_rt7bz4MYWZi"
      }
    },
    {
      "cell_type": "code",
      "source": [
        "def count_const_vowels(str):\n",
        "  vowels= ['a', 'e', 'i', 'o', 'u']\n",
        "  c_count =0\n",
        "  v_count =0\n",
        "  for i in str.lower():\n",
        "    if i in vowels:\n",
        "      v_count +=1\n",
        "    else:\n",
        "      c_count+=1\n",
        "  print(\"number of vowels\", v_count)\n",
        "  print(\"number of consonants\", c_count)\n",
        "\n",
        "count_const_vowels(\"Abra ka dabra\")\n"
      ],
      "metadata": {
        "colab": {
          "base_uri": "https://localhost:8080/"
        },
        "collapsed": true,
        "id": "XVqdydohYXmp",
        "outputId": "3ac6d6d2-2364-44e0-a0da-74887fe9562d"
      },
      "execution_count": 22,
      "outputs": [
        {
          "output_type": "stream",
          "name": "stdout",
          "text": [
            "number of vowels 5\n",
            "number of consonants 8\n"
          ]
        }
      ]
    }
  ]
}