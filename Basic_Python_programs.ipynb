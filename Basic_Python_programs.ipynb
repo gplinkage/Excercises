{
 "cells": [
  {
   "cell_type": "markdown",
   "metadata": {},
   "source": [
    "1. Write a Python program to print \"Hello Python\"."
   ]
  },
  {
   "cell_type": "code",
   "execution_count": null,
   "metadata": {},
   "outputs": [],
   "source": [
    "print('Hello Python')"
   ]
  },
  {
   "cell_type": "markdown",
   "metadata": {},
   "source": [
    "2. Write a Python program to do arithmetical operations addition and division."
   ]
  },
  {
   "cell_type": "code",
   "execution_count": 2,
   "metadata": {},
   "outputs": [
    {
     "name": "stdout",
     "output_type": "stream",
     "text": [
      "sum:50.0+30.0= 80.0\n"
     ]
    }
   ],
   "source": [
    "# Addition\n",
    "num1 = float(input('Enter the first number for addition: '))\n",
    "num2 = float (input ('Enter the second number for addition: '))\n",
    "\n",
    "result = num1 + num2\n",
    "print(f'sum:{num1}+{num2}= {result}')"
   ]
  },
  {
   "cell_type": "code",
   "execution_count": 3,
   "metadata": {},
   "outputs": [
    {
     "name": "stdout",
     "output_type": "stream",
     "text": [
      "sum: 50.0/10.0= 5.0\n"
     ]
    }
   ],
   "source": [
    "# Division\n",
    "num1 = float(input('Enter the first number for division: '))\n",
    "num2 = float (input ('Enter the second number for division: '))\n",
    "\n",
    "result = num1/num2\n",
    "\n",
    "print(f'sum: {num1}/{num2}= {result}')"
   ]
  },
  {
   "cell_type": "markdown",
   "metadata": {},
   "source": [
    "3. Write a Python program to find the area of a rightangel triangle."
   ]
  },
  {
   "cell_type": "code",
   "execution_count": 3,
   "metadata": {},
   "outputs": [
    {
     "name": "stdout",
     "output_type": "stream",
     "text": [
      "Area of the rightangle traianlge with base: 12.0 and height 15.0 is 90.0 square unit\n"
     ]
    }
   ],
   "source": [
    "# Input the base and height from the user\n",
    "base = float(input('Enter the base of the righangle traingle: '))\n",
    "height = float(input('Enter the height of the righangle traingle: '))\n",
    "\n",
    "area = 0.5 * base * height\n",
    "\n",
    "print(f'Area of the rightangle traianlge with base: {base} and height: {height} is {area} square unit')"
   ]
  },
  {
   "cell_type": "markdown",
   "metadata": {},
   "source": [
    "4. Write a Python program to swap two variables."
   ]
  },
  {
   "cell_type": "code",
   "execution_count": 5,
   "metadata": {},
   "outputs": [
    {
     "name": "stdout",
     "output_type": "stream",
     "text": [
      "The value of first and second variables are 22 and 33 respectively\n",
      "The value of first and second swapped variables are 33 and 22 respectively\n"
     ]
    }
   ],
   "source": [
    "# Input two variables\n",
    "a = input ('Enter the value of the first variable: ')\n",
    "b = input ('Enter the value of the second variable: ')\n",
    "\n",
    "# Display the original values\n",
    "print(f'The value of first and second variables are {a} and {b} respectively')\n",
    "\n",
    "# Swap the values using a temporary variable\n",
    "temp = a \n",
    "a = b\n",
    "b = temp \n",
    "\n",
    "print(f'The value of first and second swapped variables are {a} and {b} respectively')"
   ]
  },
  {
   "cell_type": "markdown",
   "metadata": {},
   "source": [
    "5. Write a Python program to generate a random number."
   ]
  },
  {
   "cell_type": "code",
   "execution_count": 12,
   "metadata": {},
   "outputs": [
    {
     "name": "stdout",
     "output_type": "stream",
     "text": [
      "Random number:  40\n"
     ]
    }
   ],
   "source": [
    "import random\n",
    "print(f'Random number: ', random.randint(1,50))"
   ]
  },
  {
   "cell_type": "markdown",
   "metadata": {},
   "source": [
    "6. Write a Python program to convert kilometers to miles."
   ]
  },
  {
   "cell_type": "code",
   "execution_count": 14,
   "metadata": {},
   "outputs": [
    {
     "name": "stdout",
     "output_type": "stream",
     "text": [
      "The 70.0 kilometers in miles is 43.49597 miles\n"
     ]
    }
   ],
   "source": [
    "Kilometer = float(input('Enter distance in kilometers: '))\n",
    "\n",
    "# Apply formula to convert 1 KM = 0.621371 miles\n",
    "conversion_factor = 0.621371\n",
    "\n",
    "miles = Kilometer * conversion_factor\n",
    "\n",
    "print(f'The {Kilometer} kilometers in miles is {miles} miles')"
   ]
  },
  {
   "cell_type": "markdown",
   "metadata": {},
   "source": [
    "7. Write a Python program to convert Celsius to Fahrenheit."
   ]
  },
  {
   "cell_type": "code",
   "execution_count": 18,
   "metadata": {},
   "outputs": [
    {
     "name": "stdout",
     "output_type": "stream",
     "text": [
      "-5.0 degree celsius is equal to 23.0 degree forenheit\n"
     ]
    }
   ],
   "source": [
    "celsius = float(input('Enter temperature in Celsius: '))\n",
    "\n",
    "# Conversion formula: Fahrenheit = (Celsius * 9/5) + 32\n",
    "\n",
    "forenheit = (celsius * 9/5) + 32\n",
    "\n",
    "print(f'{celsius} degree celsius is equal to {forenheit} degree forenheit')"
   ]
  },
  {
   "cell_type": "markdown",
   "metadata": {},
   "source": [
    "8. Write a Python program to display calendar."
   ]
  },
  {
   "cell_type": "code",
   "execution_count": 2,
   "metadata": {},
   "outputs": [
    {
     "name": "stdout",
     "output_type": "stream",
     "text": [
      "   December 2023\n",
      "Mo Tu We Th Fr Sa Su\n",
      "             1  2  3\n",
      " 4  5  6  7  8  9 10\n",
      "11 12 13 14 15 16 17\n",
      "18 19 20 21 22 23 24\n",
      "25 26 27 28 29 30 31\n",
      "\n"
     ]
    }
   ],
   "source": [
    "import calendar\n",
    "\n",
    "year = int(input('Enter year: '))\n",
    "month = int(input('Enter month: '))\n",
    "\n",
    "cal = calendar.month(year, month)\n",
    "\n",
    "print(cal)"
   ]
  },
  {
   "cell_type": "markdown",
   "metadata": {},
   "source": [
    "9. Write a Python program to solve quadratic equation.\n",
    "\n",
    "The standard form of a quadratic equation is:\n",
    "where a, b and c are real numbers and\n",
    "\n",
    "𝑎x2 + 𝑏𝑥 + 𝑐 = 0\n",
    "\n",
    "𝑎 ≠0\n",
    "\n",
    "The solutions of this quadratic equation is given by:\n",
    "(−𝑏 ± (b2 − 4𝑎𝑐)1/2)/(2𝑎)"
   ]
  },
  {
   "cell_type": "code",
   "execution_count": 5,
   "metadata": {},
   "outputs": [
    {
     "name": "stdout",
     "output_type": "stream",
     "text": [
      "Root 1 : -2.0 + 2.0i\n",
      "Root 2 : -2.0 + 2.0i\n"
     ]
    }
   ],
   "source": [
    "import math \n",
    "\n",
    "# input coefficients\n",
    "a = float(input('Enter cofficent a: '))\n",
    "b = float(input('Enter cofficent b: '))\n",
    "c = float(input('Enter cofficent c: '))\n",
    "\n",
    "# calculate the discriminant\n",
    "discriminant = b**2 -4 *a *c\n",
    "\n",
    "# Check if the descriminant is positive, negative, or zero\n",
    "\n",
    "if discriminant >0:\n",
    " # two real and distinct roots \n",
    " root1: (-b + math.sqrt(discriminant)/(2*a))\n",
    " root2: (-b - math.sqrt(discriminant)/(2*a))\n",
    " print(f'Root 1: {root1}')\n",
    " print(f'Root 2: {root2}')\n",
    "\n",
    "elif discriminant == 0:\n",
    " root = -b/(2*a)\n",
    " print(f'Root: {root}')\n",
    "\n",
    "else:\n",
    " real_part = -b/(2*a)\n",
    " imaginaray_part = math.sqrt(abs(discriminant))/(2*a)\n",
    " print(f'Root 1 : {real_part} + {imaginaray_part}i')\n",
    " print(f'Root 2 : {real_part} + {imaginaray_part}i')      "
   ]
  },
  {
   "cell_type": "markdown",
   "metadata": {},
   "source": [
    "10. Write a Python program to swap two variables without temp variable."
   ]
  },
  {
   "cell_type": "code",
   "execution_count": 6,
   "metadata": {},
   "outputs": [
    {
     "name": "stdout",
     "output_type": "stream",
     "text": [
      "a=5 and b =3 after swap\n"
     ]
    }
   ],
   "source": [
    "a= 3\n",
    "b = 5\n",
    "\n",
    "# swapping variables\n",
    "\n",
    "a, b = b, a\n",
    "\n",
    "print(f'a={a} and b ={b} after swap')"
   ]
  },
  {
   "cell_type": "markdown",
   "metadata": {},
   "source": [
    "11. Write a Python Program to Check if a Number is Positive, Negative or Zero."
   ]
  },
  {
   "cell_type": "code",
   "execution_count": 9,
   "metadata": {},
   "outputs": [
    {
     "name": "stdout",
     "output_type": "stream",
     "text": [
      "0.0 is a zero\n"
     ]
    }
   ],
   "source": [
    "num1= float(input('Enter the number: '))\n",
    "\n",
    "if num1>0:\n",
    "    print(num1, 'is a postive number')\n",
    "elif num1==0:\n",
    "    print(num1, 'is a zero')\n",
    "else:\n",
    "    print(num1, 'is a negatve number')"
   ]
  },
  {
   "cell_type": "markdown",
   "metadata": {},
   "source": [
    "12. Write a Python Program to Check if a Number is Odd or Even."
   ]
  },
  {
   "cell_type": "code",
   "execution_count": 13,
   "metadata": {},
   "outputs": [
    {
     "name": "stdout",
     "output_type": "stream",
     "text": [
      "4.0 is a even number\n"
     ]
    }
   ],
   "source": [
    "a = float(input('Enter number to be checked: '))\n",
    "\n",
    "if a%2==0:\n",
    "    print(a, 'is a even number')\n",
    "else:\n",
    "    print(a, 'is an odd number')"
   ]
  },
  {
   "cell_type": "markdown",
   "metadata": {},
   "source": [
    "13. Write a Python Program to Check Leap Year."
   ]
  },
  {
   "cell_type": "code",
   "execution_count": 15,
   "metadata": {},
   "outputs": [
    {
     "name": "stdout",
     "output_type": "stream",
     "text": [
      "2031 is not a leap year\n"
     ]
    }
   ],
   "source": [
    "year = int(input('Enter a year: '))\n",
    "\n",
    "# divided by 100 means century year (ending with 00)\n",
    "# century year divided by 400 is leap year\n",
    "if (year%4 ==0) and (year%100==0):\n",
    "    print(f'{0} is a leap year'.format(year))\n",
    "    \n",
    "# not divided by 100 means not a century year\n",
    "# year divided by 4 is a leap year\n",
    "elif (year % 4 ==0) and (year % 100 != 0):\n",
    "    print(\"{0} is a leap year\".format(year))\n",
    "\n",
    "# if not divided by both 400 (century year) and 4 (not century year)\n",
    "# year is not leap year\n",
    "else:\n",
    "    print(\"{0} is not a leap year\".format(year))"
   ]
  },
  {
   "cell_type": "markdown",
   "metadata": {},
   "source": [
    "13. Write a Python Program to Check Prime Number.\n",
    "\n",
    "Prime Numbers:\n",
    "A prime number is a whole number that cannot be evenly divided by any other number\n",
    "except for 1 and itself. For example, 2, 3, 5, 7, 11, and 13 are prime numbers because they\n",
    "cannot be divided by any other positive integer except for 1 and their own value."
   ]
  },
  {
   "cell_type": "code",
   "execution_count": null,
   "metadata": {},
   "outputs": [],
   "source": []
  }
 ],
 "metadata": {
  "kernelspec": {
   "display_name": "Python 3",
   "language": "python",
   "name": "python3"
  },
  "language_info": {
   "codemirror_mode": {
    "name": "ipython",
    "version": 3
   },
   "file_extension": ".py",
   "mimetype": "text/x-python",
   "name": "python",
   "nbconvert_exporter": "python",
   "pygments_lexer": "ipython3",
   "version": "3.11.5"
  }
 },
 "nbformat": 4,
 "nbformat_minor": 2
}
