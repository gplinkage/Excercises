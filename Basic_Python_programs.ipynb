{
 "cells": [
  {
   "cell_type": "markdown",
   "metadata": {},
   "source": [
    "1. Write a Python program to print \"Hello Python\"."
   ]
  },
  {
   "cell_type": "code",
   "execution_count": null,
   "metadata": {},
   "outputs": [],
   "source": [
    "print('Hello Python')"
   ]
  },
  {
   "cell_type": "markdown",
   "metadata": {},
   "source": [
    "2. Write a Python program to do arithmetical operations addition and division."
   ]
  },
  {
   "cell_type": "code",
   "execution_count": 2,
   "metadata": {},
   "outputs": [
    {
     "name": "stdout",
     "output_type": "stream",
     "text": [
      "sum:50.0+30.0= 80.0\n"
     ]
    }
   ],
   "source": [
    "# Addition\n",
    "num1 = float(input('Enter the first number for addition: '))\n",
    "num2 = float (input ('Enter the second number for addition: '))\n",
    "\n",
    "result = num1 + num2\n",
    "print(f'sum:{num1}+{num2}= {result}')"
   ]
  },
  {
   "cell_type": "code",
   "execution_count": 3,
   "metadata": {},
   "outputs": [
    {
     "name": "stdout",
     "output_type": "stream",
     "text": [
      "sum: 50.0/10.0= 5.0\n"
     ]
    }
   ],
   "source": [
    "# Division\n",
    "num1 = float(input('Enter the first number for division: '))\n",
    "num2 = float (input ('Enter the second number for division: '))\n",
    "\n",
    "result = num1/num2\n",
    "\n",
    "print(f'sum: {num1}/{num2}= {result}')"
   ]
  },
  {
   "cell_type": "markdown",
   "metadata": {},
   "source": [
    "3. Write a Python program to find the area of a rightangel triangle."
   ]
  },
  {
   "cell_type": "code",
   "execution_count": 3,
   "metadata": {},
   "outputs": [
    {
     "name": "stdout",
     "output_type": "stream",
     "text": [
      "Area of the rightangle traianlge with base: 12.0 and height 15.0 is 90.0 square unit\n"
     ]
    }
   ],
   "source": [
    "# Input the base and height from the user\n",
    "base = float(input('Enter the base of the righangle traingle: '))\n",
    "height = float(input('Enter the height of the righangle traingle: '))\n",
    "\n",
    "area = 0.5 * base * height\n",
    "\n",
    "print(f'Area of the rightangle traianlge with base: {base} and height: {height} is {area} square unit')"
   ]
  },
  {
   "cell_type": "markdown",
   "metadata": {},
   "source": [
    "4. Write a Python program to swap two variables."
   ]
  },
  {
   "cell_type": "code",
   "execution_count": 5,
   "metadata": {},
   "outputs": [
    {
     "name": "stdout",
     "output_type": "stream",
     "text": [
      "The value of first and second variables are 22 and 33 respectively\n",
      "The value of first and second swapped variables are 33 and 22 respectively\n"
     ]
    }
   ],
   "source": [
    "# Input two variables\n",
    "a = input ('Enter the value of the first variable: ')\n",
    "b = input ('Enter the value of the second variable: ')\n",
    "\n",
    "# Display the original values\n",
    "print(f'The value of first and second variables are {a} and {b} respectively')\n",
    "\n",
    "# Swap the values using a temporary variable\n",
    "temp = a \n",
    "a = b\n",
    "b = temp \n",
    "\n",
    "print(f'The value of first and second swapped variables are {a} and {b} respectively')"
   ]
  },
  {
   "cell_type": "markdown",
   "metadata": {},
   "source": [
    "5. Write a Python program to generate a random number."
   ]
  },
  {
   "cell_type": "code",
   "execution_count": 12,
   "metadata": {},
   "outputs": [
    {
     "name": "stdout",
     "output_type": "stream",
     "text": [
      "Random number:  40\n"
     ]
    }
   ],
   "source": [
    "import random\n",
    "print(f'Random number: ', random.randint(1,50))"
   ]
  },
  {
   "cell_type": "markdown",
   "metadata": {},
   "source": [
    "6. Write a Python program to convert kilometers to miles."
   ]
  },
  {
   "cell_type": "code",
   "execution_count": 14,
   "metadata": {},
   "outputs": [
    {
     "name": "stdout",
     "output_type": "stream",
     "text": [
      "The 70.0 kilometers in miles is 43.49597 miles\n"
     ]
    }
   ],
   "source": [
    "Kilometer = float(input('Enter distance in kilometers: '))\n",
    "\n",
    "# Apply formula to convert 1 KM = 0.621371 miles\n",
    "conversion_factor = 0.621371\n",
    "\n",
    "miles = Kilometer * conversion_factor\n",
    "\n",
    "print(f'The {Kilometer} kilometers in miles is {miles} miles')"
   ]
  },
  {
   "cell_type": "markdown",
   "metadata": {},
   "source": [
    "7. Write a Python program to convert Celsius to Fahrenheit."
   ]
  },
  {
   "cell_type": "code",
   "execution_count": 18,
   "metadata": {},
   "outputs": [
    {
     "name": "stdout",
     "output_type": "stream",
     "text": [
      "-5.0 degree celsius is equal to 23.0 degree forenheit\n"
     ]
    }
   ],
   "source": [
    "celsius = float(input('Enter temperature in Celsius: '))\n",
    "\n",
    "# Conversion formula: Fahrenheit = (Celsius * 9/5) + 32\n",
    "\n",
    "forenheit = (celsius * 9/5) + 32\n",
    "\n",
    "print(f'{celsius} degree celsius is equal to {forenheit} degree forenheit')"
   ]
  },
  {
   "cell_type": "markdown",
   "metadata": {},
   "source": [
    "8. Write a Python program to display calendar."
   ]
  },
  {
   "cell_type": "code",
   "execution_count": 2,
   "metadata": {},
   "outputs": [
    {
     "name": "stdout",
     "output_type": "stream",
     "text": [
      "   December 2023\n",
      "Mo Tu We Th Fr Sa Su\n",
      "             1  2  3\n",
      " 4  5  6  7  8  9 10\n",
      "11 12 13 14 15 16 17\n",
      "18 19 20 21 22 23 24\n",
      "25 26 27 28 29 30 31\n",
      "\n"
     ]
    }
   ],
   "source": [
    "import calendar\n",
    "\n",
    "year = int(input('Enter year: '))\n",
    "month = int(input('Enter month: '))\n",
    "\n",
    "cal = calendar.month(year, month)\n",
    "\n",
    "print(cal)"
   ]
  },
  {
   "cell_type": "markdown",
   "metadata": {},
   "source": [
    "9. Write a Python program to solve quadratic equation.\n",
    "\n",
    "The standard form of a quadratic equation is:\n",
    "where a, b and c are real numbers and\n",
    "\n",
    "𝑎x2 + 𝑏𝑥 + 𝑐 = 0\n",
    "\n",
    "𝑎 ≠0\n",
    "\n",
    "The solutions of this quadratic equation is given by:\n",
    "(−𝑏 ± (b2 − 4𝑎𝑐)1/2)/(2𝑎)"
   ]
  },
  {
   "cell_type": "code",
   "execution_count": null,
   "metadata": {},
   "outputs": [],
   "source": [
    "import math \n",
    "\n",
    "# input coefficients\n",
    "a = float(input('Enter cofficent a: '))\n",
    "b = float(input('Enter cofficent b: '))\n",
    "c = float(input('Enter cofficent c: '))\n",
    "\n",
    "# calculate the discriminant\n",
    "discriminant = b**2 -4 *a *c\n",
    "\n",
    "# Check if the descriminant is positive, negative, or zero\n",
    "\n",
    "if discriminant >0:\n",
    " # two real and distinct roots \n",
    " root1: (-b + ath.sqrt(discriminate)/(2*a))"
   ]
  }
 ],
 "metadata": {
  "kernelspec": {
   "display_name": "Python 3",
   "language": "python",
   "name": "python3"
  },
  "language_info": {
   "codemirror_mode": {
    "name": "ipython",
    "version": 3
   },
   "file_extension": ".py",
   "mimetype": "text/x-python",
   "name": "python",
   "nbconvert_exporter": "python",
   "pygments_lexer": "ipython3",
   "version": "3.11.4"
  }
 },
 "nbformat": 4,
 "nbformat_minor": 2
}
